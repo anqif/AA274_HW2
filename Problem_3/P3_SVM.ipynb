{
 "cells": [
  {
   "cell_type": "markdown",
   "metadata": {},
   "source": [
    "# Problem 3: TensorFlow and Edge Detection using SVM"
   ]
  },
  {
   "cell_type": "code",
   "execution_count": null,
   "metadata": {},
   "outputs": [],
   "source": [
    "%matplotlib inline\n",
    "from __future__ import division\n",
    "from ipywidgets import interact\n",
    "import matplotlib.pyplot as plt\n",
    "import numpy as np\n",
    "import tensorflow as tf\n",
    "import shutil\n",
    "from utils import *\n",
    "from HOG import *"
   ]
  },
  {
   "cell_type": "markdown",
   "metadata": {},
   "source": [
    "Your task is to construct a SVM using the tf.estimator framework.\n",
    "We have written most of the tf.estimator framework and generated the data. Your task is to fill in the feature extractor section and the **``` model_fn ``` ** function below. Please read through the Tensorflow Example IPython Notebook first.\n"
   ]
  },
  {
   "cell_type": "markdown",
   "metadata": {},
   "source": [
    "First, we generate the data."
   ]
  },
  {
   "cell_type": "code",
   "execution_count": null,
   "metadata": {},
   "outputs": [],
   "source": [
    "# Cell [a]\n",
    "# generating data!\n",
    "x_train, y_train = generate_data(N=5000)\n",
    "x_eval, y_eval = generate_data(N=1000)\n",
    "x_pred, y_true = generate_data(N=1000)\n",
    "c = ['powderblue' if lb == 1 else 'indianred' for lb in y_train]\n",
    "plt.scatter(x_train[:,0], x_train[:,1], c = c, alpha=0.5, s=50)"
   ]
  },
  {
   "cell_type": "markdown",
   "metadata": {},
   "source": [
    "### Edit in Part (iv), but still run for Part(iii)"
   ]
  },
  {
   "cell_type": "code",
   "execution_count": null,
   "metadata": {},
   "outputs": [],
   "source": [
    "# Cell [b]\n",
    "# Here, you need to define your features. You should use numpy operations.\n",
    "# Feature extractor\n",
    "def identityFeatureExtractor(x):\n",
    "    return x\n",
    "def customFeatureExtractor(x):\n",
    "    # You need to write a feature extractor\n",
    "    # It takes in x, a N x 2 array and outputs features of your design.\n",
    "    # It should output a N x M array where M is the number of features\n",
    "    # For example, it can output x1, x2, x1*x2\n",
    "    ### Your code starts here ###\n",
    "    phi_x = np.column_stack((x, x**2, x[:,0]*x[:,1]))\n",
    "    #############################\n",
    "    return phi_x\n",
    "\n",
    "########## TO DO #######################\n",
    "# Select which feature extractor you want\n",
    "# featureExtractor = identityFeatureExtractor\n",
    "featureExtractor = customFeatureExtractor"
   ]
  },
  {
   "cell_type": "markdown",
   "metadata": {},
   "source": [
    "We start building the Estimator framework.\n",
    "Make sure you define lambda here"
   ]
  },
  {
   "cell_type": "code",
   "execution_count": null,
   "metadata": {},
   "outputs": [],
   "source": [
    "# Cell [c]\n",
    "## Settings for the estimator\n",
    "# location to save model information\n",
    "model_dir = \"training_checkpoints\"\n",
    "rc = tf.estimator.RunConfig().replace(model_dir=model_dir,\n",
    "                                      tf_random_seed=None,\n",
    "                                      save_summary_steps=100,\n",
    "                                      save_checkpoints_steps=1000,\n",
    "                                      keep_checkpoint_max=1000,\n",
    "                                      log_step_count_steps=1000)\n",
    "\n",
    "# hyperparameters, batch sizes, learning rate\n",
    "hps = tf.contrib.training.HParams(\n",
    "    train_batch_size = 32,\n",
    "    eval_batch_size = 32,\n",
    "    ############ Select your learning rate and lambda value here ############\n",
    "    lr = 0.075,\n",
    "    lam = 0.825\n",
    "    #########################################################################\n",
    "    )\n"
   ]
  },
  {
   "cell_type": "markdown",
   "metadata": {},
   "source": [
    "### Part (iii)\n",
    "```model_fn``` is defined here. Your task is to fill in the missing code"
   ]
  },
  {
   "cell_type": "code",
   "execution_count": null,
   "metadata": {},
   "outputs": [],
   "source": [
    "# Cell [d]\n",
    "# Defining necessary functions for the estimator \n",
    "# input data functions for train, evalulation and prediction\n",
    "# note that x and y are fed in as dictionaries\n",
    "train_input_function = tf.estimator.inputs.numpy_input_fn(x={\"x\":featureExtractor(x_train)},\n",
    "                                                          y={\"y\":y_train},\n",
    "                                                          batch_size=hps.train_batch_size,\n",
    "                                                          num_epochs=None,\n",
    "                                                          shuffle=True)\n",
    "eval_input_function = tf.estimator.inputs.numpy_input_fn(x={\"x\":featureExtractor(x_eval)},\n",
    "                                                         y={\"y\":y_eval},\n",
    "                                                         batch_size=hps.eval_batch_size,\n",
    "                                                         num_epochs=1,\n",
    "                                                         shuffle=False)\n",
    "def predict_input_function(x_dict):\n",
    "    return tf.estimator.inputs.numpy_input_fn(x=x_dict,\n",
    "                                              num_epochs=1,\n",
    "                                              shuffle=False)\n",
    "\n",
    "\n",
    "def model_fn(features, labels, mode, params):\n",
    "    predictions = None\n",
    "    loss = None\n",
    "    train_op = None\n",
    "    eval_metric_ops = None \n",
    "    export_outputs = None\n",
    "\n",
    "    x = tf.to_float(features[\"x\"])\n",
    "    if mode == tf.estimator.ModeKeys.TRAIN or mode == tf.estimator.ModeKeys.EVAL:\n",
    "        y = tf.to_float(labels[\"y\"])\n",
    "        with tf.variable_scope(\"svm\"):\n",
    "            W = tf.get_variable(\"weights\", dtype=tf.float32, shape=(x.shape[-1],1))\n",
    "            b = tf.get_variable(\"bias\", dtype=tf.float32, shape=(1,))\n",
    "            ### Your code starts here ###\n",
    "            # You may find the following functions useful: tf.matmul, tf.reduce_mean, tf.maximum, tf.square, tf.nn.l2_loss, tf.reduce_sum\n",
    "            # use the ?<function name> functionality in jupyter to find out more about the functions.\n",
    "            # This should take about 2 lines.\n",
    "            ###########################\n",
    "            y_est = tf.matmul(x, W) - b\n",
    "            loss = tf.reduce_mean(tf.maximum(0.0, 1.0 - y*y_est)) + 2*params.lam*tf.nn.l2_loss(W)\n",
    "            #####\n",
    "            accuracy = tf.reduce_mean(tf.to_float(y*y_est > 0))\n",
    "            eval_metric_ops = {\"accuracy\": tf.metrics.mean(accuracy)}\n",
    "            if mode == tf.estimator.ModeKeys.TRAIN:\n",
    "                opt = tf.train.GradientDescentOptimizer(learning_rate=params.lr)\n",
    "                train_op = opt.minimize(loss, tf.train.get_global_step())\n",
    "    elif mode == tf.estimator.ModeKeys.PREDICT:\n",
    "        predictions = {}\n",
    "        with tf.variable_scope(\"svm\"):\n",
    "            W = tf.get_variable(\"weights\", shape=(x.shape[-1],1), dtype=tf.float32)\n",
    "            b = tf.get_variable(\"bias\", shape=(1,), dtype=tf.float32)\n",
    "            ### Your code starts here ###\n",
    "            # This should take about 1 line\n",
    "            #############################\n",
    "            y_est = tf.matmul(x, W) - b\n",
    "            #####\n",
    "            predictions[\"y_est\"] = y_est\n",
    "            predictions[\"labels\"] = 2*tf.sign(y_est) - 1\n",
    "    return tf.estimator.EstimatorSpec(mode, \n",
    "                                      predictions=predictions, \n",
    "                                      loss=loss,\n",
    "                                      train_op=train_op,\n",
    "                                      eval_metric_ops=eval_metric_ops)"
   ]
  },
  {
   "cell_type": "code",
   "execution_count": null,
   "metadata": {},
   "outputs": [],
   "source": [
    "# Cell [e]\n",
    "# Define the estimator object\n",
    "estimator_model = tf.estimator.Estimator(model_fn, \n",
    "                                         params=hps, \n",
    "                                         config=rc,\n",
    "                                         model_dir=model_dir,\n",
    "                                         )"
   ]
  },
  {
   "cell_type": "code",
   "execution_count": null,
   "metadata": {},
   "outputs": [],
   "source": [
    "# Cell [f]\n",
    "# Define the specifications for training and evaluation\n",
    "train_spec = tf.estimator.TrainSpec(input_fn=train_input_function, max_steps=10000)\n",
    "eval_spec = tf.estimator.EvalSpec(input_fn=eval_input_function, steps=100, start_delay_secs=0)"
   ]
  },
  {
   "cell_type": "code",
   "execution_count": null,
   "metadata": {
    "scrolled": true
   },
   "outputs": [],
   "source": [
    "# Cell [g]\n",
    "# Clear graph and start training and evaluating the model\n",
    "shutil.rmtree(model_dir, ignore_errors=True)\n",
    "tf.estimator.train_and_evaluate(estimator_model, train_spec, eval_spec)"
   ]
  },
  {
   "cell_type": "code",
   "execution_count": null,
   "metadata": {},
   "outputs": [],
   "source": [
    "# Cell [g]\n",
    "# Make predictions given new x data\n",
    "y_predict = estimator_model.predict(predict_input_function({\"x\":featureExtractor(x_pred)}), predict_keys = \"y_est\")\n",
    "y_pred = [y[\"y_est\"][0] for y in y_predict]\n",
    "labels_pred = np.sign(np.array(y_pred))"
   ]
  },
  {
   "cell_type": "code",
   "execution_count": null,
   "metadata": {
    "scrolled": false
   },
   "outputs": [],
   "source": [
    "# Cell[i]\n",
    "# Plot predictions\n",
    "c = ['powderblue' if lb == 1 else 'indianred' for lb in labels_pred]\n",
    "plt.scatter(x_pred[:,0], x_pred[:,1], c=c, s=50, alpha=0.5)\n",
    "# misclassified data\n",
    "d = labels_pred - y_true[:,0]\n",
    "misclass_idx = np.where(d!= 0)[0]\n",
    "c = ['red' if lb == 2 else 'blue' for lb in d[misclass_idx]]\n",
    "plt.scatter(x_pred[misclass_idx,0], x_pred[misclass_idx,1], c=c, s=50, alpha=0.8)"
   ]
  },
  {
   "cell_type": "code",
   "execution_count": null,
   "metadata": {},
   "outputs": [],
   "source": [
    "# misclassification rate\n",
    "rate = misclass_idx.shape[0]/y_true.shape[0]\n",
    "rate_r = np.count_nonzero([lb == 2 for lb in d[misclass_idx]])/y_true.shape[0]\n",
    "rate_b = rate - rate_r\n",
    "print \"Misclassification Rate: %.3f = %.3f (Red) + %.3f (Blue)\" % (rate, rate_r, rate_b)"
   ]
  },
  {
   "cell_type": "markdown",
   "metadata": {
    "collapsed": true
   },
   "source": [
    "### Part (vii) SVM with Histograms of Gradients\n"
   ]
  },
  {
   "cell_type": "code",
   "execution_count": null,
   "metadata": {},
   "outputs": [],
   "source": [
    "# Cell [j]\n",
    "sess = tf.InteractiveSession()\n",
    "datasets = np.load('pedestrian_dataset.npz')    # extracted from the original Dalal and Triggs paper dataset available here: http://pascal.inrialpes.fr/data/human/\n",
    "datasets.keys()"
   ]
  },
  {
   "cell_type": "code",
   "execution_count": null,
   "metadata": {},
   "outputs": [],
   "source": [
    "# Cell [k]\n",
    "### EXPLORE THE DATASET!\n",
    "data = datasets['train_pos']\n",
    "# data = datasets['train_neg']\n",
    "@interact(k = (0, data.shape[0]-1))\n",
    "def view_img(k):\n",
    "    plt.imshow(data[k])"
   ]
  },
  {
   "cell_type": "code",
   "execution_count": null,
   "metadata": {},
   "outputs": [],
   "source": [
    "# Cell[l]\n",
    "### VISUALIZE HOGs!\n",
    "data = datasets['train_pos']\n",
    "# data = datasets['train_neg']\n",
    "\n",
    "@interact(k = (0, data.shape[0]-1))\n",
    "def view_img(k):\n",
    "    plt.figure(figsize = (15,15))    # feel free to change this depending on your screen resolution\n",
    "    plt.imshow(data[k])\n",
    "    # we can call .eval() instead of sess.run() below since we're using an InteractiveSession\n",
    "    plot_cell_hogs(tf_histogram_of_oriented_gradients(data[k])[0].eval())"
   ]
  },
  {
   "cell_type": "code",
   "execution_count": null,
   "metadata": {},
   "outputs": [],
   "source": [
    "# Cell [m]\n",
    "### USE TENSORFLOW AS A COMPUTATION FRAMEWORK (NOT JUST FOR BACKPROPAGATION!)\n",
    "##### You code starts here #####\n",
    "############################################################\n",
    "def get_hogs(data_pos, data_neg):\n",
    "    x_pos = [tf_histogram_of_oriented_gradients(d)[1] for d in data_pos]\n",
    "    x_neg = [tf_histogram_of_oriented_gradients(d)[1] for d in data_neg]\n",
    "    y_pos = tf.ones((len(data_pos), 1), tf.int32)\n",
    "    y_neg = tf.fill((len(data_neg), 1), -1)\n",
    "    \n",
    "    x = tf.concat(x_pos + x_neg, axis = 0).eval()\n",
    "    y = tf.concat([y_pos, y_neg], axis = 0).eval()\n",
    "    return x, y\n",
    "\n",
    "x_train, y_train = get_hogs(datasets[\"train_pos\"], datasets[\"train_neg\"])\n",
    "x_eval, y_eval = get_hogs(datasets[\"eval_pos\"], datasets[\"eval_neg\"])\n",
    "x_pred, y_true = get_hogs(datasets[\"test_pos\"], datasets[\"test_neg\"])\n",
    "############################################################\n",
    "featureExtractor = identityFeatureExtractor"
   ]
  },
  {
   "cell_type": "code",
   "execution_count": null,
   "metadata": {},
   "outputs": [],
   "source": [
    "### RERUN TRAINING CELLS [c]-[g] ABOVE"
   ]
  },
  {
   "cell_type": "code",
   "execution_count": null,
   "metadata": {},
   "outputs": [],
   "source": [
    "# Cell [n]\n",
    "### VISUALIZE WEIGHTED HOGs!\n",
    "data = datasets['train_pos']\n",
    "# data = datasets['train_neg']\n",
    "\n",
    "weights = np.reshape(estimator_model.get_variable_value('svm/weights'), [1, -1])\n",
    "pos_weights = np.maximum(weights, 0)\n",
    "neg_weights = -np.minimum(weights, 0)\n",
    "@interact(k = (0, data.shape[0]-1), show_image = (False, True))\n",
    "def view_img(k, show_image):\n",
    "    plt.figure(figsize = (15,15))    # feel free to change this depending on your screen resolution\n",
    "    plt.imshow(data[k])\n",
    "    hog = hog_descriptor(data[k]).eval()\n",
    "    unweighted_block_hogs = np.mean(hog.reshape([16, 8, 1, 9]), axis=2)\n",
    "    pos_weighted_block_hogs = np.mean(pos_weights.reshape([16, 8, 1, 9])*hog.reshape([16, 8, 1, 9]), axis=2)\n",
    "    neg_weighted_block_hogs = np.mean(neg_weights.reshape([16, 8, 1, 9])*hog.reshape([16, 8, 1, 9]), axis=2)\n",
    "\n",
    "    plt.subplot(1,3,1)\n",
    "    color = 'yellow' if show_image else 'white'\n",
    "    plt.imshow(show_image*data[k])\n",
    "    plot_cell_hogs(unweighted_block_hogs, pixels_in_cell=8, color=color)\n",
    "    plt.subplot(1,3,2)\n",
    "    plt.imshow(show_image*data[k])\n",
    "    plot_cell_hogs(pos_weighted_block_hogs, pixels_in_cell=8, color=color)\n",
    "    plt.subplot(1,3,3)\n",
    "    plt.imshow(show_image*data[k])\n",
    "    plot_cell_hogs(neg_weighted_block_hogs, pixels_in_cell=8, color=color)"
   ]
  },
  {
   "cell_type": "code",
   "execution_count": null,
   "metadata": {},
   "outputs": [],
   "source": [
    "# misclassification rate\n",
    "d = labels_pred - y_true[:,0]\n",
    "misclass_idx = np.where(d != 0)[0]\n",
    "rate = misclass_idx.shape[0]/y_true.shape[0]\n",
    "rate_p = np.count_nonzero([lb == 2 for lb in d[misclass_idx]])/y_true.shape[0]\n",
    "rate_n = rate - rate_p\n",
    "print \"Misclassification Rate: %.3f = %.3f (Positive) + %.3f (Negative)\" % (rate, rate_p, rate_n)"
   ]
  },
  {
   "cell_type": "code",
   "execution_count": null,
   "metadata": {},
   "outputs": [],
   "source": []
  }
 ],
 "metadata": {
  "kernelspec": {
   "display_name": "Python 2",
   "language": "python",
   "name": "python2"
  },
  "language_info": {
   "codemirror_mode": {
    "name": "ipython",
    "version": 2
   },
   "file_extension": ".py",
   "mimetype": "text/x-python",
   "name": "python",
   "nbconvert_exporter": "python",
   "pygments_lexer": "ipython2",
   "version": "2.7.12"
  }
 },
 "nbformat": 4,
 "nbformat_minor": 2
}
